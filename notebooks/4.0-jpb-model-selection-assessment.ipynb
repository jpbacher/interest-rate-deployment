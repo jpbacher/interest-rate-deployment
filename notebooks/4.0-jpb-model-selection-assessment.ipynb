{
 "cells": [
  {
   "cell_type": "code",
   "execution_count": 1,
   "metadata": {},
   "outputs": [],
   "source": [
    "import numpy as np\n",
    "from scipy.stats import randint, uniform\n",
    "import pandas as pd\n",
    "import matplotlib.pyplot as plt\n",
    "\n",
    "from sklearn.model_selection import cross_val_score, RandomizedSearchCV\n",
    "from sklearn.metrics import mean_squared_error, r2_score\n",
    "\n",
    "from sklearn.linear_model import Lasso\n",
    "from sklearn.ensemble import RandomForestRegressor\n",
    "\n",
    "import joblib\n",
    "\n",
    "pd.pandas.set_option('display.max_columns', None)\n",
    "\n",
    "import warnings\n",
    "warnings.simplefilter(action='ignore')"
   ]
  },
  {
   "cell_type": "code",
   "execution_count": 2,
   "metadata": {},
   "outputs": [],
   "source": [
    "lending_train = pd.read_csv('lending_train.csv')\n",
    "lending_val = pd.read_csv('lending_val.csv')\n",
    "\n",
    "# get our target\n",
    "rate_train = lending_train['int_rate']\n",
    "rate_val = lending_val['int_rate']\n",
    "\n",
    "# get the selected features\n",
    "sel_feats = pd.read_csv('lasso_sel_feats.csv')\n",
    "sel_feats = sel_feats['0'].to_list()\n",
    "\n",
    "# reduce our dataframes to just those features\n",
    "lending_train = lending_train[sel_feats]\n",
    "lending_val = lending_val[sel_feats]"
   ]
  },
  {
   "cell_type": "markdown",
   "metadata": {},
   "source": [
    "## Baseline Model\n",
    "\n",
    "We'll do a simple baseline model; the RMSE of true values to the median interest rates."
   ]
  },
  {
   "cell_type": "code",
   "execution_count": 3,
   "metadata": {},
   "outputs": [
    {
     "name": "stdout",
     "output_type": "stream",
     "text": [
      "Baseline rmse:  5.242156\n"
     ]
    }
   ],
   "source": [
    "def rmse(true, predictions):\n",
    "    return np.sqrt(np.mean(np.square(true - predictions)))\n",
    "\n",
    "baseline = rmse(rate_val, rate_val.median())\n",
    "print(f'Baseline rmse: {baseline: 0.6f}')"
   ]
  },
  {
   "cell_type": "markdown",
   "metadata": {},
   "source": [
    "## Lasso Model"
   ]
  },
  {
   "cell_type": "code",
   "execution_count": 4,
   "metadata": {},
   "outputs": [
    {
     "name": "stdout",
     "output_type": "stream",
     "text": [
      "Training rmse: 4.404163801880641\n",
      "Validation rmse: 4.416590789618043\n",
      "\n",
      "Training r-squared: 0.28248755123674407\n",
      "Validation r-squared: 0.2804741184879467\n"
     ]
    }
   ],
   "source": [
    "lin_model = Lasso(random_state=3)\n",
    "lin_params = {'alpha': uniform(0.0005, 0.01)}\n",
    "\n",
    "lin_rs = RandomizedSearchCV(lin_model, \n",
    "                            lin_params, \n",
    "                            n_iter=5, \n",
    "                            scoring='neg_mean_squared_error',\n",
    "                            cv=5, \n",
    "                            random_state=6)\n",
    "lin_rs.fit(lending_train, rate_train)\n",
    "\n",
    "lin_best_params = lin_rs.best_params_\n",
    "\n",
    "lin_best = Lasso(**lin_best_params, random_state=3)\n",
    "lin_best.fit(lending_train, rate_train)\n",
    "\n",
    "train_preds = lin_best.predict(lending_train)\n",
    "val_preds = lin_best.predict(lending_val)\n",
    "\n",
    "print(f'Training rmse: {rmse(rate_train, train_preds)}')\n",
    "print(f'Validation rmse: {rmse(rate_val, val_preds)}\\n')\n",
    "print(f'Training r-squared: {r2_score(rate_train, train_preds)}')\n",
    "print(f'Validation r-squared: {r2_score(rate_val, val_preds)}')"
   ]
  },
  {
   "cell_type": "markdown",
   "metadata": {},
   "source": [
    "## Random Forest"
   ]
  },
  {
   "cell_type": "code",
   "execution_count": 5,
   "metadata": {},
   "outputs": [
    {
     "name": "stdout",
     "output_type": "stream",
     "text": [
      "Best parameters: {'min_samples_leaf': 3, 'max_features': 0.9, 'max_depth': 15}\n"
     ]
    },
    {
     "data": {
      "text/plain": [
       "['rf_regression.pkl']"
      ]
     },
     "execution_count": 5,
     "metadata": {},
     "output_type": "execute_result"
    }
   ],
   "source": [
    "rf = RandomForestRegressor(n_estimators=100, random_state=3, n_jobs=-1)\n",
    "rf_params = {'max_features': [0.9, 0.8, 0.7],\n",
    "             'max_depth': [9, 12, 15, 18],\n",
    "             'min_samples_leaf': [3, 5, 8, 10, 12]}\n",
    "\n",
    "rf_rs = RandomizedSearchCV(rf,\n",
    "                           rf_params,\n",
    "                           n_iter=5, \n",
    "                           scoring='neg_mean_squared_error',\n",
    "                           cv=5,\n",
    "                           random_state=6)\n",
    "rf_rs.fit(lending_train, rate_train)\n",
    "\n",
    "rf_rs_best_params = rf_rs.best_params_\n",
    "print(f'Best parameters: {rf_rs_best_params}')\n",
    "\n",
    "rf_rs_best = RandomForestRegressor(**rf_rs_best_params, random_state=3)\n",
    "rf_rs_best.fit(lending_train, rate_train)\n",
    "\n",
    "#persist model for future use\n",
    "joblib.dump(rf_rs_best, 'rf_regression.pkl')"
   ]
  },
  {
   "cell_type": "code",
   "execution_count": 6,
   "metadata": {},
   "outputs": [
    {
     "name": "stdout",
     "output_type": "stream",
     "text": [
      "Training rmse: 3.256507655047351\n",
      "Validation rmse: 3.960998550183124\n",
      "\n",
      "Training r-squared: 0.6077104665237907\n",
      "Validation r-squared: 0.4212627154472437\n"
     ]
    }
   ],
   "source": [
    "rf_train_preds = rf_rs_best.predict(lending_train)\n",
    "rf_val_preds = rf_rs_best.predict(lending_val)\n",
    "\n",
    "print(f'Training rmse: {rmse(rate_train, rf_train_preds)}')\n",
    "print(f'Validation rmse: {rmse(rate_val, rf_val_preds)}\\n')\n",
    "print(f'Training r-squared: {r2_score(rate_train, rf_train_preds)}')\n",
    "print(f'Validation r-squared: {r2_score(rate_val, rf_val_preds)}')"
   ]
  },
  {
   "cell_type": "code",
   "execution_count": null,
   "metadata": {},
   "outputs": [],
   "source": []
  }
 ],
 "metadata": {
  "kernelspec": {
   "display_name": "Python 3",
   "language": "python",
   "name": "python3"
  },
  "language_info": {
   "codemirror_mode": {
    "name": "ipython",
    "version": 3
   },
   "file_extension": ".py",
   "mimetype": "text/x-python",
   "name": "python",
   "nbconvert_exporter": "python",
   "pygments_lexer": "ipython3",
   "version": "3.7.7"
  }
 },
 "nbformat": 4,
 "nbformat_minor": 4
}
