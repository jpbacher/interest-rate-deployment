{
 "cells": [
  {
   "cell_type": "code",
   "execution_count": 1,
   "metadata": {},
   "outputs": [],
   "source": [
    "import numpy as np\n",
    "import pandas as pd\n",
    "import matplotlib.pyplot as plt\n",
    "from sklearn.model_selection import train_test_split\n",
    "\n",
    "pd.pandas.set_option('display.max_columns', None)\n",
    "\n",
    "import warnings\n",
    "warnings.simplefilter(action='ignore')"
   ]
  },
  {
   "cell_type": "code",
   "execution_count": 2,
   "metadata": {},
   "outputs": [],
   "source": [
    "lending_data = pd.read_csv('lending_train.csv')"
   ]
  },
  {
   "cell_type": "code",
   "execution_count": 3,
   "metadata": {},
   "outputs": [],
   "source": [
    "# clean features\n",
    "def remove_percentage_sign(df, feat):\n",
    "    df = df.copy()\n",
    "    df[feat] = df[feat].str.replace(r'%', '').astype('float')\n",
    "    return df\n",
    "\n",
    "for feat in ['int_rate', 'revol_util']:\n",
    "    lending_data = remove_percentage_sign(lending_data, feat)"
   ]
  },
  {
   "cell_type": "code",
   "execution_count": 4,
   "metadata": {},
   "outputs": [],
   "source": [
    "lending_train, lending_val, rate_train, rate_val = train_test_split(\n",
    "    lending_data, lending_data['int_rate'], test_size=0.1, random_state=12)"
   ]
  },
  {
   "cell_type": "markdown",
   "metadata": {},
   "source": [
    "## Missing Values\n",
    "\n",
    "### High Percentage"
   ]
  },
  {
   "cell_type": "code",
   "execution_count": 5,
   "metadata": {},
   "outputs": [],
   "source": [
    "def feats_with_na_above_thresh(df, min_thresh, max_thresh=1.0):\n",
    "    missing_feats = [feat for feat in df.columns if \n",
    "                     (df[feat].isnull().sum() / df.shape[0]) > min_thresh and\n",
    "                     df[feat].isnull().sum() / df.shape[0] <= max_thresh]\n",
    "    return df[missing_feats].isnull().mean().sort_values(ascending=False)\n",
    "\n",
    "high_perc_feats = feats_with_na_above_thresh(lending_train, 0.9)"
   ]
  },
  {
   "cell_type": "code",
   "execution_count": 6,
   "metadata": {},
   "outputs": [],
   "source": [
    "# drop features that have > 90% missing in training data\n",
    "lending_train = lending_train.drop(high_perc_feats.index, axis=1)\n",
    "lending_val = lending_val.drop(high_perc_feats.index, axis=1)"
   ]
  },
  {
   "cell_type": "markdown",
   "metadata": {},
   "source": [
    "### Categorical Variables"
   ]
  },
  {
   "cell_type": "code",
   "execution_count": 7,
   "metadata": {},
   "outputs": [
    {
     "data": {
      "text/plain": [
       "term                    0.000015\n",
       "emp_title               0.073038\n",
       "emp_length              0.071984\n",
       "home_ownership          0.000015\n",
       "verification_status     0.000015\n",
       "issue_d                 0.000015\n",
       "pymnt_plan              0.000015\n",
       "purpose                 0.000015\n",
       "title                   0.000015\n",
       "zip_code                0.000018\n",
       "addr_state              0.000015\n",
       "earliest_cr_line        0.000015\n",
       "initial_list_status     0.000015\n",
       "application_type        0.000015\n",
       "hardship_flag           0.000015\n",
       "disbursement_method     0.000015\n",
       "debt_settlement_flag    0.000015\n",
       "dtype: float64"
      ]
     },
     "execution_count": 7,
     "metadata": {},
     "output_type": "execute_result"
    }
   ],
   "source": [
    "cat_feats_with_na = [\n",
    "    feat for feat in lending_train.columns if lending_train[feat].isnull().sum() > 0 and\n",
    "        lending_train[feat].dtypes == 'O'\n",
    "]\n",
    "\n",
    "lending_train[cat_feats_with_na].isnull().mean()"
   ]
  },
  {
   "cell_type": "code",
   "execution_count": 8,
   "metadata": {},
   "outputs": [],
   "source": [
    "# make a new label 'Missing' for the 2 features that have 7% missing\n",
    "lending_train[['emp_title', 'emp_length']] = lending_train[\n",
    "    ['emp_title', 'emp_length']].fillna('Missing')\n",
    "lending_val[['emp_title', 'emp_length']] = lending_val[\n",
    "    ['emp_title', 'emp_length']].fillna('Missing')"
   ]
  },
  {
   "cell_type": "code",
   "execution_count": 9,
   "metadata": {},
   "outputs": [],
   "source": [
    "cat_feats_with_small_na = [\n",
    "    feat for feat in cat_feats_with_na if lending_train[feat].isnull().sum() > 0\n",
    "]\n",
    "\n",
    "# drop data points w/ very little missing\n",
    "lending_train = lending_train.dropna(subset=cat_feats_with_small_na)\n",
    "lending_val = lending_val.dropna(subset=cat_feats_with_small_na)"
   ]
  },
  {
   "cell_type": "code",
   "execution_count": 10,
   "metadata": {},
   "outputs": [
    {
     "name": "stdout",
     "output_type": "stream",
     "text": [
      "[]\n",
      "[]\n"
     ]
    }
   ],
   "source": [
    "# sanity checks\n",
    "print([feat for feat in cat_feats_with_na if lending_train[feat].isnull().sum() > 0])\n",
    "print([feat for feat in cat_feats_with_na if lending_val[feat].isnull().sum() > 0])"
   ]
  },
  {
   "cell_type": "code",
   "execution_count": null,
   "metadata": {},
   "outputs": [],
   "source": []
  }
 ],
 "metadata": {
  "kernelspec": {
   "display_name": "Python 3",
   "language": "python",
   "name": "python3"
  },
  "language_info": {
   "codemirror_mode": {
    "name": "ipython",
    "version": 3
   },
   "file_extension": ".py",
   "mimetype": "text/x-python",
   "name": "python",
   "nbconvert_exporter": "python",
   "pygments_lexer": "ipython3",
   "version": "3.7.7"
  }
 },
 "nbformat": 4,
 "nbformat_minor": 4
}
